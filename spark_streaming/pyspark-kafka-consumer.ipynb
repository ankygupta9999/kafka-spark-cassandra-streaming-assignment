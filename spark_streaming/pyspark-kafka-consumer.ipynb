{
 "cells": [
  {
   "cell_type": "code",
   "execution_count": 1,
   "metadata": {},
   "outputs": [],
   "source": [
    "import os\n",
    "import json\n",
    "import pandas as pd\n",
    "os.environ['PYSPARK_SUBMIT_ARGS'] = '--packages org.apache.spark:spark-streaming-kafka-0-10_2.12:3.1.2,org.apache.spark:spark-sql-kafka-0-10_2.12:3.1.2,com.datastax.spark:spark-cassandra-connector_2.12:3.1.0 pyspark-shell'"
   ]
  },
  {
   "cell_type": "code",
   "execution_count": 2,
   "metadata": {},
   "outputs": [],
   "source": [
    "from ast import literal_eval"
   ]
  },
  {
   "cell_type": "code",
   "execution_count": 3,
   "metadata": {},
   "outputs": [],
   "source": [
    "from pyspark.sql import SparkSession\n",
    "\n",
    "spark = SparkSession \\\n",
    "    .builder \\\n",
    "    .appName(\"SSKafka\") \\\n",
    "    .getOrCreate()\n",
    "    \n",
    "# default for startingOffsets is \"latest\", but \"earliest\" allows rewind for missed alerts    \n",
    "dsraw = spark \\\n",
    "  .readStream \\\n",
    "  .format(\"kafka\") \\\n",
    "  .option(\"kafka.bootstrap.servers\", \"localhost:9092\") \\\n",
    "  .option(\"subscribe\", \"test\") \\\n",
    "  .option(\"startingOffsets\", \"latest\") \\\n",
    "  .load()"
   ]
  },
  {
   "cell_type": "code",
   "execution_count": 4,
   "metadata": {},
   "outputs": [],
   "source": [
    "### Insert into Cassandra\n",
    "spark.conf.set(\"spark.cassandra.connection.host\",\"127.0.0.1:9042\")\n",
    "# spark.conf.set(\"spark.sql.extensions\",\"com.datastax.spark.connector.CassandraSparkExtensions\")\n",
    "spark.conf.set(\"spark.sql.catalog.mycatalog\", \"com.datastax.spark.connector.datasource.CassandraCatalog\")"
   ]
  },
  {
   "cell_type": "code",
   "execution_count": 5,
   "metadata": {},
   "outputs": [],
   "source": [
    "ds = dsraw.selectExpr(\"CAST(value AS STRING)\")"
   ]
  },
  {
   "cell_type": "code",
   "execution_count": 6,
   "metadata": {},
   "outputs": [
    {
     "name": "stdout",
     "output_type": "stream",
     "text": [
      "<class 'pyspark.sql.dataframe.DataFrame'>\n",
      "<class 'pyspark.sql.dataframe.DataFrame'>\n"
     ]
    }
   ],
   "source": [
    "print(type(dsraw))\n",
    "print(type(ds))"
   ]
  },
  {
   "cell_type": "code",
   "execution_count": 7,
   "metadata": {},
   "outputs": [],
   "source": [
    "alertQuery = ds \\\n",
    "        .writeStream \\\n",
    "        .queryName(\"qalerts\")\\\n",
    "        .format(\"memory\")\\\n",
    "        .start()"
   ]
  },
  {
   "cell_type": "code",
   "execution_count": 16,
   "metadata": {},
   "outputs": [],
   "source": [
    "alerts = spark.sql(\"select * from qalerts\")\n",
    "# alerts.tail(15)"
   ]
  },
  {
   "cell_type": "code",
   "execution_count": 17,
   "metadata": {},
   "outputs": [
    {
     "data": {
      "text/plain": [
       "10"
      ]
     },
     "execution_count": 17,
     "metadata": {},
     "output_type": "execute_result"
    }
   ],
   "source": [
    "alerts.count()"
   ]
  },
  {
   "cell_type": "code",
   "execution_count": 18,
   "metadata": {},
   "outputs": [],
   "source": [
    "df_data = alerts.toPandas()"
   ]
  },
  {
   "cell_type": "code",
   "execution_count": 19,
   "metadata": {},
   "outputs": [],
   "source": [
    "df5 = df_data.copy()"
   ]
  },
  {
   "cell_type": "code",
   "execution_count": 26,
   "metadata": {},
   "outputs": [
    {
     "name": "stdout",
     "output_type": "stream",
     "text": [
      "processing user : U1612554\n",
      "processing user : U1037314\n",
      "processing user : U1936209\n",
      "processing user : U1137354\n",
      "processing user : U1967163\n",
      "processing user : U1089595\n",
      "processing user : U1596384\n",
      "processing user : U1013979\n",
      "processing user : U1074338\n",
      "processing user : U1076031\n"
     ]
    }
   ],
   "source": [
    "df_cass = pd.DataFrame()\n",
    "for i, row in df5.iterrows():\n",
    "    s = row.value.replace(\"'\", \"\\\"\")\n",
    "    s1 = json.loads(s)\n",
    "#     print(s1)\n",
    "    if ('user_id' in s1):\n",
    "        print (\"processing user :\", s1['user_id'])\n",
    "        s1['user_created'] = s1['user_created'][:23]\n",
    "#         s1['user_comms'] = S1['user_comms']\n",
    "        if (len(df_cass) == 0):\n",
    "            df_cass = pd.DataFrame.from_records([s1])\n",
    "#             pd.Series(df_cass).to_frame()\n",
    "        else:\n",
    "            df_cass = df_cass.append(s1, ignore_index=True)"
   ]
  },
  {
   "cell_type": "code",
   "execution_count": 27,
   "metadata": {},
   "outputs": [
    {
     "data": {
      "text/plain": [
       "Index(['user_id', 'user_nm', 'user_city', 'user_st', 'user_interests',\n",
       "       'user_comms', 'user_comm_cnt', 'user_created'],\n",
       "      dtype='object')"
      ]
     },
     "execution_count": 27,
     "metadata": {},
     "output_type": "execute_result"
    }
   ],
   "source": [
    "df_cass.columns"
   ]
  },
  {
   "cell_type": "code",
   "execution_count": 28,
   "metadata": {},
   "outputs": [],
   "source": [
    "df_cass.drop_duplicates(subset=['user_id', 'user_nm', 'user_city', 'user_st', 'user_interests',\n",
    "       'user_comm_cnt', 'user_created'], inplace=True)\n",
    "df_cass.reset_index(drop=True, inplace=True)"
   ]
  },
  {
   "cell_type": "code",
   "execution_count": 30,
   "metadata": {},
   "outputs": [
    {
     "data": {
      "text/html": [
       "<div>\n",
       "<style scoped>\n",
       "    .dataframe tbody tr th:only-of-type {\n",
       "        vertical-align: middle;\n",
       "    }\n",
       "\n",
       "    .dataframe tbody tr th {\n",
       "        vertical-align: top;\n",
       "    }\n",
       "\n",
       "    .dataframe thead th {\n",
       "        text-align: right;\n",
       "    }\n",
       "</style>\n",
       "<table border=\"1\" class=\"dataframe\">\n",
       "  <thead>\n",
       "    <tr style=\"text-align: right;\">\n",
       "      <th></th>\n",
       "      <th>user_id</th>\n",
       "      <th>user_nm</th>\n",
       "      <th>user_city</th>\n",
       "      <th>user_st</th>\n",
       "      <th>user_interests</th>\n",
       "      <th>user_comms</th>\n",
       "      <th>user_comm_cnt</th>\n",
       "      <th>user_created</th>\n",
       "    </tr>\n",
       "  </thead>\n",
       "  <tbody>\n",
       "    <tr>\n",
       "      <th>0</th>\n",
       "      <td>U1612554</td>\n",
       "      <td>Rati Bali</td>\n",
       "      <td>Nellore</td>\n",
       "      <td>Chhattisgarh</td>\n",
       "      <td>swimming</td>\n",
       "      <td>sports</td>\n",
       "      <td>6</td>\n",
       "      <td>2021-08-01 19:06:41.614</td>\n",
       "    </tr>\n",
       "    <tr>\n",
       "      <th>1</th>\n",
       "      <td>U1037314</td>\n",
       "      <td>Emir Dara</td>\n",
       "      <td>Bongaigaon</td>\n",
       "      <td>Gujarat</td>\n",
       "      <td>chess</td>\n",
       "      <td>sports</td>\n",
       "      <td>6</td>\n",
       "      <td>2021-08-01 19:06:41.618</td>\n",
       "    </tr>\n",
       "    <tr>\n",
       "      <th>2</th>\n",
       "      <td>U1936209</td>\n",
       "      <td>Miraya Karpe</td>\n",
       "      <td>Pallavaram</td>\n",
       "      <td>Jharkhand</td>\n",
       "      <td>technology</td>\n",
       "      <td>science</td>\n",
       "      <td>7</td>\n",
       "      <td>2021-08-01 19:06:41.605</td>\n",
       "    </tr>\n",
       "    <tr>\n",
       "      <th>3</th>\n",
       "      <td>U1137354</td>\n",
       "      <td>Parinaaz Tak</td>\n",
       "      <td>Tumkur</td>\n",
       "      <td>Jharkhand</td>\n",
       "      <td>kickboxing</td>\n",
       "      <td>science</td>\n",
       "      <td>7</td>\n",
       "      <td>2021-08-01 19:06:41.614</td>\n",
       "    </tr>\n",
       "    <tr>\n",
       "      <th>4</th>\n",
       "      <td>U1967163</td>\n",
       "      <td>Ehsaan Hari</td>\n",
       "      <td>Bhopal</td>\n",
       "      <td>Karnataka</td>\n",
       "      <td>swimming</td>\n",
       "      <td>tech</td>\n",
       "      <td>4</td>\n",
       "      <td>2021-08-01 19:06:41.625</td>\n",
       "    </tr>\n",
       "    <tr>\n",
       "      <th>5</th>\n",
       "      <td>U1089595</td>\n",
       "      <td>Tara Handa</td>\n",
       "      <td>Bhilwara</td>\n",
       "      <td>Telangana</td>\n",
       "      <td>badminton</td>\n",
       "      <td>science</td>\n",
       "      <td>7</td>\n",
       "      <td>2021-08-01 19:06:41.628</td>\n",
       "    </tr>\n",
       "    <tr>\n",
       "      <th>6</th>\n",
       "      <td>U1596384</td>\n",
       "      <td>Kaira Dhar</td>\n",
       "      <td>Sagar</td>\n",
       "      <td>Maharashtra</td>\n",
       "      <td>cricket</td>\n",
       "      <td>sports</td>\n",
       "      <td>6</td>\n",
       "      <td>2021-08-01 19:06:41.632</td>\n",
       "    </tr>\n",
       "    <tr>\n",
       "      <th>7</th>\n",
       "      <td>U1013979</td>\n",
       "      <td>Kismat Saini</td>\n",
       "      <td>Asansol</td>\n",
       "      <td>Mizoram</td>\n",
       "      <td>mobiles</td>\n",
       "      <td>science</td>\n",
       "      <td>7</td>\n",
       "      <td>2021-08-01 19:06:41.621</td>\n",
       "    </tr>\n",
       "    <tr>\n",
       "      <th>8</th>\n",
       "      <td>U1074338</td>\n",
       "      <td>Neysa Ratti</td>\n",
       "      <td>Loni</td>\n",
       "      <td>Tamil Nadu</td>\n",
       "      <td>volleyball</td>\n",
       "      <td>tech</td>\n",
       "      <td>4</td>\n",
       "      <td>2021-08-01 19:06:41.635</td>\n",
       "    </tr>\n",
       "    <tr>\n",
       "      <th>9</th>\n",
       "      <td>U1076031</td>\n",
       "      <td>Mishti Shah</td>\n",
       "      <td>Ongole</td>\n",
       "      <td>Meghalaya</td>\n",
       "      <td>technology</td>\n",
       "      <td>tech</td>\n",
       "      <td>4</td>\n",
       "      <td>2021-08-01 19:06:41.641</td>\n",
       "    </tr>\n",
       "  </tbody>\n",
       "</table>\n",
       "</div>"
      ],
      "text/plain": [
       "    user_id       user_nm   user_city       user_st user_interests user_comms  \\\n",
       "0  U1612554     Rati Bali     Nellore  Chhattisgarh       swimming     sports   \n",
       "1  U1037314     Emir Dara  Bongaigaon       Gujarat          chess     sports   \n",
       "2  U1936209  Miraya Karpe  Pallavaram     Jharkhand     technology    science   \n",
       "3  U1137354  Parinaaz Tak      Tumkur     Jharkhand     kickboxing    science   \n",
       "4  U1967163   Ehsaan Hari      Bhopal     Karnataka       swimming       tech   \n",
       "5  U1089595    Tara Handa    Bhilwara     Telangana      badminton    science   \n",
       "6  U1596384    Kaira Dhar       Sagar   Maharashtra        cricket     sports   \n",
       "7  U1013979  Kismat Saini     Asansol       Mizoram        mobiles    science   \n",
       "8  U1074338   Neysa Ratti        Loni    Tamil Nadu     volleyball       tech   \n",
       "9  U1076031   Mishti Shah      Ongole     Meghalaya     technology       tech   \n",
       "\n",
       "   user_comm_cnt             user_created  \n",
       "0              6  2021-08-01 19:06:41.614  \n",
       "1              6  2021-08-01 19:06:41.618  \n",
       "2              7  2021-08-01 19:06:41.605  \n",
       "3              7  2021-08-01 19:06:41.614  \n",
       "4              4  2021-08-01 19:06:41.625  \n",
       "5              7  2021-08-01 19:06:41.628  \n",
       "6              6  2021-08-01 19:06:41.632  \n",
       "7              7  2021-08-01 19:06:41.621  \n",
       "8              4  2021-08-01 19:06:41.635  \n",
       "9              4  2021-08-01 19:06:41.641  "
      ]
     },
     "execution_count": 30,
     "metadata": {},
     "output_type": "execute_result"
    }
   ],
   "source": [
    "df_cass"
   ]
  },
  {
   "cell_type": "code",
   "execution_count": 31,
   "metadata": {},
   "outputs": [],
   "source": [
    "sparkDF_cass=spark.createDataFrame(df_cass)"
   ]
  },
  {
   "cell_type": "code",
   "execution_count": 32,
   "metadata": {},
   "outputs": [],
   "source": [
    "sparkDF_cass.write\\\n",
    "    .format(\"org.apache.spark.sql.cassandra\")\\\n",
    "    .mode('append')\\\n",
    "    .options(table=\"users\", keyspace=\"raw_stream\")\\\n",
    "    .save()"
   ]
  },
  {
   "cell_type": "code",
   "execution_count": 93,
   "metadata": {},
   "outputs": [
    {
     "name": "stdout",
     "output_type": "stream",
     "text": [
      "+-------+---+---------+-------------+----------+------------+--------------+-------+-------+\n",
      "|user_id| id|user_city|user_comm_cnt|user_comms|user_created|user_interests|user_nm|user_st|\n",
      "+-------+---+---------+-------------+----------+------------+--------------+-------+-------+\n",
      "+-------+---+---------+-------------+----------+------------+--------------+-------+-------+\n",
      "\n"
     ]
    }
   ],
   "source": [
    "# spark.read.format(\"org.apache.spark.sql.cassandra\").options(table=\"users\", keyspace=\"raw_stream\").load().show()\n",
    "# spark.sql.format"
   ]
  },
  {
   "cell_type": "code",
   "execution_count": 105,
   "metadata": {},
   "outputs": [],
   "source": [
    "# spark.sql(\"CREATE DATABASE IF NOT EXISTS mycatalog.testks WITH DBPROPERTIES (class='SimpleStrategy',replication_factor='1')\")\n",
    "# spark.sql(\"CREATE TABLE mycatalog.testks.testtab (key Int, value STRING) USING cassandra PARTITIONED BY (key)\")\n",
    "\n",
    "# # //List their contents\n",
    "# spark.sql(\"SHOW NAMESPACES FROM mycatalog\").show\n",
    "# spark.sql(\"SHOW TABLES FROM mycatalog.testks\").show\n"
   ]
  },
  {
   "cell_type": "code",
   "execution_count": null,
   "metadata": {},
   "outputs": [],
   "source": []
  }
 ],
 "metadata": {
  "kernelspec": {
   "display_name": "Python 3",
   "language": "python",
   "name": "python3"
  },
  "language_info": {
   "codemirror_mode": {
    "name": "ipython",
    "version": 3
   },
   "file_extension": ".py",
   "mimetype": "text/x-python",
   "name": "python",
   "nbconvert_exporter": "python",
   "pygments_lexer": "ipython3",
   "version": "3.8.5"
  }
 },
 "nbformat": 4,
 "nbformat_minor": 4
}
